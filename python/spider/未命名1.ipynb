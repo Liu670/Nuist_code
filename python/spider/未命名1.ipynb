{
 "cells": [
  {
   "cell_type": "code",
   "execution_count": 1,
   "id": "8db62701",
   "metadata": {},
   "outputs": [],
   "source": [
    "import requests\n",
    "url = 'https://bj.zu.ke.com/zufang'\n",
    "header = {\n",
    "    \"User-Agent\":\"Mozilla/5.0 (Macintosh; Intel Mac OS X 10.15; rv:109.0) Gecko/20100101 Firefox/119.0\"\n",
    "}\n",
    "resp = requests.get(url,header)\n",
    "text = resp.text"
   ]
  },
  {
   "cell_type": "code",
   "execution_count": 2,
   "id": "6c45f21d",
   "metadata": {},
   "outputs": [],
   "source": [
    "from bs4 import BeautifulSoup\n",
    "soup = BeautifulSoup(text, 'html.parser')\n"
   ]
  },
  {
   "cell_type": "code",
   "execution_count": 3,
   "id": "23e8ebe8",
   "metadata": {},
   "outputs": [],
   "source": [
    "urls = []\n",
    "div = soup.select(\".content__list .content__list--item\")\n",
    "\n",
    "price = soup.select(\".content__list--item-price em\")\n",
    "title = []\n",
    "for i in div:\n",
    "    title.append(i.find('p',{\"class\":\"content__list--item--title\"}).a.text.strip())"
   ]
  },
  {
   "cell_type": "code",
   "execution_count": 4,
   "id": "d1a35cc3",
   "metadata": {},
   "outputs": [],
   "source": [
    "title = []\n",
    "price = []\n",
    "for i in div:\n",
    "    info = i.find(\"div\",{\"class\":\"content__list--item--main\"})\n",
    "    title.append(info.a.text.strip())\n",
    "    price.append(info.em.text)\n",
    "#     print(i.find('p',{\"class\":\"content__list--item--title\"}).a.text.strip())"
   ]
  },
  {
   "cell_type": "code",
   "execution_count": 5,
   "id": "326eb1e5",
   "metadata": {},
   "outputs": [
    {
     "name": "stdout",
     "output_type": "stream",
     "text": [
      "['整租·朝悦居 2室1厅 南', '整租·百环家园 1室1厅 北', '整租·晓月苑一里 2室1厅 南/北', '合租·望京花园西区 3居室 东卧', '整租·锦悦嘉苑 2室1厅 南/北', '合租·望京新城 3居室 南卧', '整租·华业东方玫瑰D区 3室1厅 南/北', '合租·万和嘉园一区 4居室 北卧', '整租·巧克力城 1室1厅 北', '合租·新龙城 3居室 南卧', '整租·和平里七区 3室1厅 南/北', '合租·台湖金茂悦 4居室 北卧', '整租·延静里中街3号院 2室1厅 西南', '合租·珠江罗马嘉园东区 4居室 南卧', '整租·育新花园 1室1厅 东', '整租·卧龙小区 2室1厅 南', '整租·望兴居 1室1厅 西北', '合租·新源街 2居室 西南卧', '整租·高能物理研究所 2室1厅 南', '整租·白云观 2室1厅 南', '整租·绿地诺亚方舟 1室0厅 西', '合租·碣石坪 3居室 南卧', '整租·丽景长安 2室1厅 南/北', '合租·富明公寓 3居室 南卧', '整租·梅园小区 2室1厅 南/北', '合租·慧忠里D区 3居室 西卧', '整租·东亚印象台湖 2室1厅 南/北', '合租·世安家园 2居室 西南卧', '整租·左家庄北里 1室1厅 南', '合租·朝来绿色家园蕴实园 2居室 北卧'] ['7280', '7760', '3885', '2600', '2835', '2200', '5700', '1680', '4100', '3500', '8500', '2030', '8500', '3160', '5200', '9500', '6500', '3190', '6000', '7200', '3000', '2100', '4700', '3030', '5000', '2460', '3600', '2700', '5000', '2777']\n"
     ]
    }
   ],
   "source": [
    "print(title,price)"
   ]
  },
  {
   "cell_type": "code",
   "execution_count": null,
   "id": "a03b04d2",
   "metadata": {},
   "outputs": [],
   "source": []
  },
  {
   "cell_type": "code",
   "execution_count": null,
   "id": "b5138e7a",
   "metadata": {},
   "outputs": [],
   "source": []
  },
  {
   "cell_type": "code",
   "execution_count": null,
   "id": "b5db81ad",
   "metadata": {},
   "outputs": [],
   "source": []
  }
 ],
 "metadata": {
  "kernelspec": {
   "display_name": "Python 3 (ipykernel)",
   "language": "python",
   "name": "python3"
  },
  "language_info": {
   "codemirror_mode": {
    "name": "ipython",
    "version": 3
   },
   "file_extension": ".py",
   "mimetype": "text/x-python",
   "name": "python",
   "nbconvert_exporter": "python",
   "pygments_lexer": "ipython3",
   "version": "3.8.17"
  }
 },
 "nbformat": 4,
 "nbformat_minor": 5
}
