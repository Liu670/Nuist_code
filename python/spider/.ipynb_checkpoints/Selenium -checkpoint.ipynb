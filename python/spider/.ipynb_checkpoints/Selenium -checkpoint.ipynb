{
 "cells": [
  {
   "cell_type": "code",
   "execution_count": 3,
   "id": "f9fdd444",
   "metadata": {},
   "outputs": [],
   "source": [
    "from selenium import webdriver\n",
    "browser = webdriver.Chrome()\n",
    "browser.get('http://www.baidu.com')"
   ]
  },
  {
   "cell_type": "code",
   "execution_count": 7,
   "id": "1d60f55b",
   "metadata": {},
   "outputs": [],
   "source": [
    "from selenium import webdriver\n",
    " \n",
    "chromedriver_path = r\"/Users/liu/Downloads/chromedriver-mac-x64/chromedriver\"\n",
    "driver = webdriver.Chrome(chromedriver_path)\n",
    "path = \"https://haoka.lot-ml.com/view/iframe.html\"\n",
    " # 登录百度\n",
    "def login(path):\n",
    "    driver.get(path)\n",
    "    browser.find_element_by_xpath(\"//input[@id='kw']\").send_keys(\"selenium\")\n",
    "\n",
    " \n",
    " \n",
    "if __name__ == '__main__':\n",
    "    main(path)"
   ]
  },
  {
   "cell_type": "code",
   "execution_count": 9,
   "id": "cbb12b84",
   "metadata": {},
   "outputs": [
    {
     "ename": "AttributeError",
     "evalue": "'NoneType' object has no attribute 'find_element_by_xpath'",
     "output_type": "error",
     "traceback": [
      "\u001b[0;31m---------------------------------------------------------------------------\u001b[0m",
      "\u001b[0;31mAttributeError\u001b[0m                            Traceback (most recent call last)",
      "Cell \u001b[0;32mIn[9], line 7\u001b[0m\n\u001b[1;32m      5\u001b[0m path \u001b[38;5;241m=\u001b[39m \u001b[38;5;124m\"\u001b[39m\u001b[38;5;124mhttps://haoka.lot-ml.com/view/iframe.html\u001b[39m\u001b[38;5;124m\"\u001b[39m\n\u001b[1;32m      6\u001b[0m browser \u001b[38;5;241m=\u001b[39m driver\u001b[38;5;241m.\u001b[39mget(path)\n\u001b[0;32m----> 7\u001b[0m \u001b[43mbrowser\u001b[49m\u001b[38;5;241;43m.\u001b[39;49m\u001b[43mfind_element_by_xpath\u001b[49m(\u001b[38;5;124m'\u001b[39m\u001b[38;5;124m//*[@id=\u001b[39m\u001b[38;5;124m\"\u001b[39m\u001b[38;5;124musername\u001b[39m\u001b[38;5;124m\"\u001b[39m\u001b[38;5;124m]\u001b[39m\u001b[38;5;124m'\u001b[39m)\u001b[38;5;241m.\u001b[39msend_keys(\u001b[38;5;124m\"\u001b[39m\u001b[38;5;124m13155908670\u001b[39m\u001b[38;5;124m\"\u001b[39m)\n\u001b[1;32m      8\u001b[0m browser\u001b[38;5;241m.\u001b[39mfind_element_by_xpath(\u001b[38;5;124m'\u001b[39m\u001b[38;5;124m//*[@id=\u001b[39m\u001b[38;5;124m\"\u001b[39m\u001b[38;5;124mpassword\u001b[39m\u001b[38;5;124m\"\u001b[39m\u001b[38;5;124m]\u001b[39m\u001b[38;5;124m'\u001b[39m)\u001b[38;5;241m.\u001b[39msend_keys(\u001b[38;5;124m\"\u001b[39m\u001b[38;5;124ml15179021389\u001b[39m\u001b[38;5;124m\"\u001b[39m)\n",
      "\u001b[0;31mAttributeError\u001b[0m: 'NoneType' object has no attribute 'find_element_by_xpath'"
     ]
    }
   ],
   "source": [
    "from selenium import webdriver\n",
    " \n",
    "chromedriver_path = r\"/Users/liu/Downloads/chromedriver-mac-x64/chromedriver\"\n",
    "driver = webdriver.Chrome(chromedriver_path)\n",
    "path = \"https://haoka.lot-ml.com/view/iframe.html\"\n",
    "driver.get(path)\n",
    "driver.find_element_by_xpath('//*[@id=\"username\"]').send_keys(\"13155908670\")\n",
    "driver.find_element_by_xpath('//*[@id=\"password\"]').send_keys(\"l15179021389\")"
   ]
  },
  {
   "cell_type": "code",
   "execution_count": 12,
   "id": "f422c22a",
   "metadata": {},
   "outputs": [
    {
     "name": "stdout",
     "output_type": "stream",
     "text": [
      "cookies保存成功！\n"
     ]
    }
   ],
   "source": [
    "from selenium import webdriver\n",
    "import json,time\n",
    "\n",
    "chromedriver_path = r\"/Users/liu/Downloads/chromedriver-mac-x64/chromedriver\"\n",
    "driver = webdriver.Chrome(chromedriver_path)\n",
    "path = \"https://haoka.lot-ml.com/view/iframe.html\"\n",
    "driver.get(path)\n",
    "time.sleep(4)\n",
    "input(\"等待登录成功，登录成功后随便输入内容。\")\n",
    "\n",
    "dictCookies = driver.get_cookies()\n",
    "jsonCookies = json.dumps(dictCookies)\n",
    "\n",
    "with open('cookies.txt', 'w') as f:\n",
    "    f.write(jsonCookies)\n",
    "print('cookies保存成功！')\n"
   ]
  },
  {
   "cell_type": "code",
   "execution_count": null,
   "id": "7114cee6",
   "metadata": {},
   "outputs": [],
   "source": []
  },
  {
   "cell_type": "code",
   "execution_count": null,
   "id": "b40cf8de",
   "metadata": {},
   "outputs": [],
   "source": []
  },
  {
   "cell_type": "code",
   "execution_count": null,
   "id": "02ef8bb1",
   "metadata": {},
   "outputs": [],
   "source": []
  },
  {
   "cell_type": "code",
   "execution_count": null,
   "id": "406d8194",
   "metadata": {},
   "outputs": [],
   "source": []
  }
 ],
 "metadata": {
  "kernelspec": {
   "display_name": "Python 3 (ipykernel)",
   "language": "python",
   "name": "python3"
  },
  "language_info": {
   "codemirror_mode": {
    "name": "ipython",
    "version": 3
   },
   "file_extension": ".py",
   "mimetype": "text/x-python",
   "name": "python",
   "nbconvert_exporter": "python",
   "pygments_lexer": "ipython3",
   "version": "3.8.17"
  }
 },
 "nbformat": 4,
 "nbformat_minor": 5
}
