{
 "cells": [
  {
   "cell_type": "code",
   "execution_count": 49,
   "id": "1e9eb4e3",
   "metadata": {},
   "outputs": [
    {
     "data": {
      "text/plain": [
       "[{'url_list': '/book/161653/',\n",
       "  'url_img': 'https://www.biqg.cc/bookimg/159/159552.jpg',\n",
       "  'articlename': '异域天境',\n",
       "  'author': '魔蝙ASH',\n",
       "  'intro': '预言日将至，世界各地都出现凭空出现怪异的时空裂缝的传闻，最近世界各地相继有很多人不明不白地失踪，导致世界各地的人出现恐慌'},\n",
       " {'url_list': '/book/149280/',\n",
       "  'url_img': 'https://www.biqg.cc/bookimg/144/144781.jpg',\n",
       "  'articlename': '极品狂医',\n",
       "  'author': '二两馒头',\n",
       "  'intro': '简介：林晓东接连遭遇女友和好友的背叛，机缘巧合下获得金手指，轻轻一点就可以治疗百病。林晓东小神医，哪里有病点哪里。'},\n",
       " {'url_list': '/book/161899/',\n",
       "  'url_img': 'https://www.biqg.cc/bookimg/159/159306.jpg',\n",
       "  'articlename': '普攻永久加生命，阁下如何应对？',\n",
       "  'author': '撼动猩',\n",
       "  'intro': '重生回到诸神黄昏开服之前，一切都还有重新来过的机会，曾经的遗憾，都将一一弥补。前世十年未曾觉醒的天赋，如今凭借前世记忆，'},\n",
       " {'url_list': '/book/124698/',\n",
       "  'url_img': 'https://www.biqg.cc/bookimg/124/124123.jpg',\n",
       "  'articlename': '真龙归来叶无缺',\n",
       "  'author': '一念汪洋',\n",
       "  'intro': '真龙归来叶无缺小说介绍：战神狂飙世人敢问，何谓战神？便是以肉身霸世，拳爆星空，掌裂苍穹，一路摧枯拉朽，横推八荒六合！便是'},\n",
       " {'url_list': '/book/135985/',\n",
       "  'url_img': 'https://www.biqg.cc/bookimg/139/139980.jpg',\n",
       "  'articlename': '提瓦特之开局盗宝团，打劫申鹤',\n",
       "  'author': '一喵高歌',\n",
       "  'intro': '提瓦特之开局盗宝团，打劫申鹤最新章节由网友一喵高歌免费阅读提供，《提瓦特之开局盗宝团，打劫申鹤》情节跌宕起伏、扣人心弦，'},\n",
       " {'url_list': '/book/178651/',\n",
       "  'url_img': 'https://www.biqg.cc/bookimg/178/178746.jpg',\n",
       "  'articlename': '都市神级仙医',\n",
       "  'author': '三丁',\n",
       "  'intro': '为了庆祝结婚纪念日，唐鸿宇提前从工地回家，却撞见妻子背叛，更惨遭毒打，生死之际获得血脉传承，从此改天换命，一飞冲天！'},\n",
       " {'url_list': '/book/140397/',\n",
       "  'url_img': 'https://www.biqg.cc/bookimg/144/144616.jpg',\n",
       "  'articlename': '修罗剑神',\n",
       "  'author': '三寸寒芒',\n",
       "  'intro': '少年天生至尊神脉，却因一颗善心坠落凡尘。滔天怨气激活神魔令，得神界无上霸主传承，十大太古凶兽真血淬体，于逆境中崛起！以凡'},\n",
       " {'url_list': '/book/162783/',\n",
       "  'url_img': 'https://www.biqg.cc/bookimg/158/158422.jpg',\n",
       "  'articlename': '关栩栩褚北鹤',\n",
       "  'author': '骑着猫的小鱼干',\n",
       "  'intro': '（真假千金玄学打脸，CP感情线弱）被关家扫地出门后，关栩栩摇身一变成了身价千亿的真千金。关家人后悔了，仗着养育之恩，要姜'},\n",
       " {'url_list': '/book/171265/',\n",
       "  'url_img': 'https://www.biqg.cc/bookimg/168/168036.jpg',\n",
       "  'articlename': '万相之王李洛',\n",
       "  'author': '天蚕土豆',\n",
       "  'intro': '天地间，有万相。而我李洛，终将成为这万相之王。继《斗破苍穹》《武动乾坤》《大主宰》《元尊》之后，天蚕土豆又一部玄幻力作。'},\n",
       " {'url_list': '/book/147222/',\n",
       "  'url_img': 'https://www.biqg.cc/bookimg/146/146839.jpg',\n",
       "  'articlename': '天武神帝',\n",
       "  'author': '醉梦星辰',\n",
       "  'intro': '一代天骄云飞扬，因在秘境中保护自己的未婚妻，导致修为尽废，成为一介废人。后被逐出天阳宗，成为一名宗门弃徒。然，少年热血，'},\n",
       " {'url_list': '/book/16197/',\n",
       "  'url_img': 'https://www.biqg.cc/bookimg/15/15472.jpg',\n",
       "  'articlename': '吞噬古帝',\n",
       "  'author': '黑白仙鹤',\n",
       "  'intro': '少年苏辰被人夺帝骨，废血轮，惨遭家族遗弃。觉醒混沌体，开启混沌吞噬塔，以混沌杀戮重聚血轮，携三生血轮横空出世，誓要灭杀一'},\n",
       " {'url_list': '/book/149493/',\n",
       "  'url_img': 'https://www.biqg.cc/bookimg/153/153616.jpg',\n",
       "  'articlename': '当上赘婿的我只好读书成圣了',\n",
       "  'author': '公子无明',\n",
       "  'intro': '方易携面板穿越大离，成为一名赘婿。这个世界以命格定人生，以气运定命格。方易用面板趋吉避凶，收获气运，强壮命格。你有2个选'},\n",
       " {'url_list': '/book/107859/',\n",
       "  'url_img': 'https://www.biqg.cc/bookimg/104/104770.jpg',\n",
       "  'articlename': '大造化剑主',\n",
       "  'author': '六道沉沦',\n",
       "  'intro': '少年陈锋惨遭背叛，因祸得福意外激活至宝造化神箓，从此自道院崛起，拜入宗门，践行武道仗剑纵横，镇压一切，与天争锋、与人争雄'},\n",
       " {'url_list': '/book/121375/',\n",
       "  'url_img': 'https://www.biqg.cc/bookimg/118/118398.jpg',\n",
       "  'articlename': '诸天无敌剑修叶观',\n",
       "  'author': '叶观纳兰迦',\n",
       "  'intro': '我有一剑，出鞘即无敌！'},\n",
       " {'url_list': '/book/172013/',\n",
       "  'url_img': 'https://www.biqg.cc/bookimg/176/176336.jpg',\n",
       "  'articlename': '玄幻：这个熟练度过于超模',\n",
       "  'author': '稳不浪',\n",
       "  'intro': '穿越玄幻大反派，绑定熟练度面板。本想躺平当个好人，却被主角逼迫自废修为、百般羞辱！那我便：出刀1亿次，进阶圆满，我有一刀'}]"
      ]
     },
     "execution_count": 49,
     "metadata": {},
     "output_type": "execute_result"
    }
   ],
   "source": [
    "import requests\n",
    "import json\n",
    "\n",
    "url = \"https://www.biqg.cc/json?sortid=1&page=1\"\n",
    "resp = requests.get(url).content\n",
    "jsonHtml = json.loads(resp)\n",
    "jsonHtml"
   ]
  },
  {
   "cell_type": "code",
   "execution_count": null,
   "id": "17cf2070",
   "metadata": {},
   "outputs": [],
   "source": []
  },
  {
   "cell_type": "markdown",
   "id": "f0824d68",
   "metadata": {},
   "source": [
    "## 具体一本小说首页"
   ]
  },
  {
   "cell_type": "code",
   "execution_count": 56,
   "id": "c3f9f3b3",
   "metadata": {},
   "outputs": [
    {
     "data": {
      "text/plain": [
       "'一世兵王'"
      ]
     },
     "execution_count": 56,
     "metadata": {},
     "output_type": "execute_result"
    }
   ],
   "source": [
    "import requests\n",
    "from lxml import etree\n",
    "from bs4 import BeautifulSoup\n",
    "\n",
    "url = \"https://www.biqg.cc/book/1\"\n",
    "resp = requests.get(url).text\n",
    "soup = BeautifulSoup(resp)\n",
    "title = soup.select('.title')[0].get_text()"
   ]
  },
  {
   "cell_type": "code",
   "execution_count": 60,
   "id": "c08473f8",
   "metadata": {},
   "outputs": [
    {
     "data": {
      "text/plain": [
       "[<span>作者：我本疯狂</span>,\n",
       " <span>状态：已经完本</span>,\n",
       " <span class=\"last\">更新：2021-04-06 12:43:02</span>,\n",
       " <span class=\"last\">最新：<a href=\"/book/1/2032.html\">番外3 星空下最强之战！</a></span>]"
      ]
     },
     "execution_count": 60,
     "metadata": {},
     "output_type": "execute_result"
    }
   ],
   "source": [
    "soup.select('.small span')"
   ]
  },
  {
   "cell_type": "code",
   "execution_count": null,
   "id": "c5cac498",
   "metadata": {},
   "outputs": [],
   "source": []
  },
  {
   "cell_type": "markdown",
   "id": "93c439cb",
   "metadata": {},
   "source": [
    "## 小说内容"
   ]
  }
 ],
 "metadata": {
  "kernelspec": {
   "display_name": "Python 3 (ipykernel)",
   "language": "python",
   "name": "python3"
  },
  "language_info": {
   "codemirror_mode": {
    "name": "ipython",
    "version": 3
   },
   "file_extension": ".py",
   "mimetype": "text/x-python",
   "name": "python",
   "nbconvert_exporter": "python",
   "pygments_lexer": "ipython3",
   "version": "3.8.17"
  }
 },
 "nbformat": 4,
 "nbformat_minor": 5
}
