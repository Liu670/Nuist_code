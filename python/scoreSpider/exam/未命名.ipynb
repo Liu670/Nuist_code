{
 "cells": [
  {
   "cell_type": "code",
   "execution_count": 6,
   "id": "43285da0",
   "metadata": {},
   "outputs": [],
   "source": [
    "import pandas as pd\n",
    "path = \"./zkz.xlsx\"\n",
    "df = pd.read_excel(path)"
   ]
  },
  {
   "cell_type": "code",
   "execution_count": 17,
   "id": "4eb8f08b",
   "metadata": {},
   "outputs": [],
   "source": [
    "df.to_json(\"/Users/liu/code/homework/demo/zkz.json\",force_ascii=False,orient=\"split\", index=False)"
   ]
  }
 ],
 "metadata": {
  "kernelspec": {
   "display_name": "Python 3 (ipykernel)",
   "language": "python",
   "name": "python3"
  },
  "language_info": {
   "codemirror_mode": {
    "name": "ipython",
    "version": 3
   },
   "file_extension": ".py",
   "mimetype": "text/x-python",
   "name": "python",
   "nbconvert_exporter": "python",
   "pygments_lexer": "ipython3",
   "version": "3.8.17"
  }
 },
 "nbformat": 4,
 "nbformat_minor": 5
}
