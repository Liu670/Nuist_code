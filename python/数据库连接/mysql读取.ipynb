{
 "cells": [
  {
   "cell_type": "code",
   "execution_count": 16,
   "id": "af9e0317",
   "metadata": {},
   "outputs": [],
   "source": [
    "from sqlalchemy import create_engine\n",
    "import pandas as pd\n",
    "\n",
    "MYSQL_HOST = 'localhost'\n",
    "MYSQL_PORT = '3306'\n",
    "MYSQL_USER = 'root'\n",
    "MYSQL_PASSWORD = 'root'\n",
    "MYSQL_DB = 'mysql'\n",
    "\n",
    "engine = create_engine('mysql+pymysql://%s:%s@%s:%s/%s?charset=utf8'\n",
    "                           % (MYSQL_USER, MYSQL_PASSWORD, MYSQL_HOST, MYSQL_PORT, MYSQL_DB))\n",
    "\n",
    "sql = 'SELECT * FROM user'\n",
    "\n",
    "df = pd.read_sql(sql, engine)\n",
    "\n",
    "pd.set_option('display.unicode.ambiguous_as_wide', True)#设置列名对齐\n",
    "pd.set_option('display.unicode.east_asian_width', True)#设置列名对齐\n",
    "pd.set_option('display.max_rows',None)   #显示所有行\n",
    "pd.set_option('display.max_columns',None)#显示所有列\n",
    "pd.set_option('expand_frame_repr', False)#设置不换行\n",
    "# pd.set_option('precision',1)#显示小数点后的位数\n",
    "# pd.set_option('display.max_rows',3)#最多显示的行数\n",
    "# pd.set_option('display.max_columns',3)#最多显示的列数\n",
    "# pd.set_option('colwidth',1)#设置列长度\n",
    "\n",
    "\n"
   ]
  },
  {
   "cell_type": "code",
   "execution_count": null,
   "id": "45d10edf",
   "metadata": {},
   "outputs": [],
   "source": []
  }
 ],
 "metadata": {
  "kernelspec": {
   "display_name": "Python 3 (ipykernel)",
   "language": "python",
   "name": "python3"
  },
  "language_info": {
   "codemirror_mode": {
    "name": "ipython",
    "version": 3
   },
   "file_extension": ".py",
   "mimetype": "text/x-python",
   "name": "python",
   "nbconvert_exporter": "python",
   "pygments_lexer": "ipython3",
   "version": "3.8.17"
  }
 },
 "nbformat": 4,
 "nbformat_minor": 5
}
